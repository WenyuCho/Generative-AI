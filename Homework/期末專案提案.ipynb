{
  "nbformat": 4,
  "nbformat_minor": 0,
  "metadata": {
    "colab": {
      "provenance": [],
      "include_colab_link": true
    },
    "kernelspec": {
      "name": "python3",
      "display_name": "Python 3"
    },
    "language_info": {
      "name": "python"
    }
  },
  "cells": [
    {
      "cell_type": "markdown",
      "metadata": {
        "id": "view-in-github",
        "colab_type": "text"
      },
      "source": [
        "<a href=\"https://colab.research.google.com/github/WenyuCho/Generative-AI/blob/main/Homework/%E6%9C%9F%E6%9C%AB%E5%B0%88%E6%A1%88%E6%8F%90%E6%A1%88.ipynb\" target=\"_parent\"><img src=\"https://colab.research.google.com/assets/colab-badge.svg\" alt=\"Open In Colab\"/></a>"
      ]
    },
    {
      "cell_type": "markdown",
      "source": [
        "#  期末專案構想提案 ：查詢導向摘要生成系統（QFS-RAG）\n",
        "\n",
        "\n",
        "\n",
        "---\n",
        "\n",
        "##  一、專案目標\n",
        "\n",
        "本專案旨在設計一套**針對長篇文本中的查詢進行問答式摘要回應的系統架構（QFS-RAG）**，結合語意檢索與大型語言模型，模擬使用者對會議紀錄提出特定查詢時，系統能夠自動從冗長逐字稿中擷取相關段落，並產出針對性摘要回應。\n",
        "\n",
        "系統流程結合：\n",
        "- 向量化檢索（Dense Retriever）\n",
        "- 查詢可回應性判斷\n",
        "- 條件式摘要生成（LLM）\n",
        "\n",
        "目前預計以**QMSum 資料集**作為驗證基礎，評估本系統在多輪會議場景下的摘要問答能力。\n",
        "\n",
        "---\n",
        "\n",
        "##  二、系統架構概述\n",
        "\n",
        "1. **語意向量生成**  \n",
        "   使用 `BAAI/bge-m3` 將會議逐字稿與查詢轉為語意向量。\n",
        "\n",
        "\n",
        "2. **檢索模組（Retriever）**  \n",
        "   系統使用 `TF-IDF` 得分與語意向量間的 `Cosine Similarity` 結合進行 Hybrid 檢索。\n",
        "\n",
        "   檢索公式如下 :\n",
        "   \n",
        "   `Score=α⋅Cosine(dense)+(1−α)⋅TF-IDF`\n",
        "   \n",
        "   篩選 Top-K 相似段落（目前 K=10）。\n",
        "\n",
        "3. **回答可行性判斷（RAG Decision）**  \n",
        "   - 若 LLM 可明確回應 → 使用 Top-K 作為上下文摘要。\n",
        "   - 若回應為 `unanswerable` 或長度不足 → 改用全文 (Full Transcript)作答。\n",
        "\n",
        "4. **生成模組（Generator）**  \n",
        "   首先採用 `Nous-Hermes-2-Mistral-7B-DPO` 作為語言模型，\n",
        "   \n",
        "Prompt :   \n",
        "\n",
        "    You are given a meeting transcript and a query.Answer the query in one or more sentences.\n",
        "    If the question cannot be answered based on the transcript, write \"unanswerable\".\n",
        "   \n",
        "   依據 prompt 生成查詢導向摘要。\n",
        "\n",
        "\n",
        "---\n",
        "\n",
        "##  三、初步評估與預期成果\n",
        "\n",
        "- 支援查詢導向的會議回應摘要生成。\n",
        "- 回應失敗時自動退回全文摘要以保證任務穩定性。\n",
        "- 預計使用以下指標進行實驗比較：\n",
        "  - ROUGE Score\n",
        "  - BERTScore（語意相似度）\n",
        "\n",
        "---\n",
        "\n",
        "##  四、擴展方向（Optional）\n",
        "\n",
        "- ✅ 探索 DuoAttention 與 Self-Extend 結合長篇輸入。\n",
        "- ✅ 其他Dense Retriever的使用(Dragon, Contriever)\n",
        "\n",
        "\n",
        "---\n",
        "\n",
        "# 五、目前實驗結果\n",
        "\n",
        "\n",
        "| 指標      | 數值  |\n",
        "|-----------|-------|\n",
        "| ROUGE-1   | 26.10 |\n",
        "| ROUGE-2   | 7.09  |\n",
        "| ROUGE-L   | 18.33 |\n",
        "| BERTScore | 86.17 |"
      ],
      "metadata": {
        "id": "wzSc_lFR3MLz"
      }
    }
  ]
}